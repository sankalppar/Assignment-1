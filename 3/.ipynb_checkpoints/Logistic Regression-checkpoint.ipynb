{
 "cells": [
  {
   "cell_type": "markdown",
   "metadata": {},
   "source": [
    "# Assignment 3 : Logistic Regression"
   ]
  },
  {
   "cell_type": "markdown",
   "metadata": {},
   "source": [
    "In this assignment you have to use the logistic regression technique you learned in the week 3 of the prescribed course. You have to use numpy to complete the assignment"
   ]
  },
  {
   "cell_type": "markdown",
   "metadata": {},
   "source": [
    "#### Import other the libraries here"
   ]
  },
  {
   "cell_type": "code",
   "execution_count": 2,
   "metadata": {},
   "outputs": [],
   "source": [
    "import math\n",
    "import numpy as np\n",
    "import matplotlib.pyplot as plt"
   ]
  },
  {
   "cell_type": "markdown",
   "metadata": {},
   "source": [
    "##### Define these functions here:\n",
    "- Sigmoid function: `def sigmoid(x):`"
   ]
  },
  {
   "cell_type": "code",
   "execution_count": 8,
   "metadata": {},
   "outputs": [
    {
     "name": "stdout",
     "output_type": "stream",
     "text": [
      "[[0.88079708]\n",
      " [0.98201379]]\n"
     ]
    }
   ],
   "source": [
    "def sigmoid(x):\n",
    "    a = np.exp(-x)\n",
    "    return (1 / (1 + a))\n",
    "print(sigmoid(np.array([[2],[4]])))"
   ]
  },
  {
   "cell_type": "markdown",
   "metadata": {},
   "source": [
    "- cost function: `def cost_fn(x,y,theta):` (refer to the course)"
   ]
  },
  {
   "cell_type": "code",
   "execution_count": 13,
   "metadata": {},
   "outputs": [
    {
     "name": "stdout",
     "output_type": "stream",
     "text": [
      "0.8132616875182228\n",
      "2\n"
     ]
    }
   ],
   "source": [
    "def cost_fn(x, y, theta):\n",
    "    a = np.dot(theta, x)\n",
    "    h = sigmoid(a)\n",
    "    cost = 0\n",
    "    #cost_mat = -(1 / 2 * (x.shape[1]-1)) * (y * np.log(1-h) + (1-y) * np.log(h))\n",
    "    for i in np.array(np.where(y==1))[0]:\n",
    "        cost += -(1 / (2 * (x.shape[1] - 1)) * (np.log(h[0][i]))).item()\n",
    "    for i in np.array(np.where(y==0))[0]:\n",
    "        cost += -(1 / (2 * (x.shape[1] - 1)) * (np.log(1-h[0][i]))).item()                      \n",
    "    #cost = np.sum(cost_mat)\n",
    "    return cost\n",
    "x = np.array([[1, 2],[1, 4]])\n",
    "theta = np.array([[0, 1]])\n",
    "y = np.array([[1, 0]])\n",
    "print(cost_fn(x, y, theta))\n",
    "print(y.shape[1])"
   ]
  },
  {
   "cell_type": "markdown",
   "metadata": {},
   "source": [
    "- Gradient descent: `def gradient_descent(X, y, theta, learning_rate=1, iters):`\n",
    "\n",
    "$\\frac{\\partial J}{\\partial \\theta} = \\frac{1}{m} \\Sigma_{i=1}^m ((h_\\theta(x^{(i)})-y^{(i)})x_j^{(i)})$\n",
    "\n",
    "$\\theta_{j+1}^{(i)} = \\theta_j^{(i)} - \\frac{1}{m} \\Sigma_{i=1}^m ((h_\\theta(x^{(i)})-y^{(i)})x_j^{(i)})$\n",
    "\n",
    "Since these are for each element of your matrix. The final expression will be: (if using matrices)\n",
    "$\\theta_{j+1} = \\theta_j - \\frac{1}{m} \\Sigma_{i=1}^m ((h_\\theta(x)-y)x_j)$\n",
    "\n",
    "You have to initialise $\\theta$ and update it at each iteration according to this gradient descent equation"
   ]
  },
  {
   "cell_type": "code",
   "execution_count": 73,
   "metadata": {},
   "outputs": [],
   "source": [
    "def gradient_descent(X, y, theta, iters, learning_rate = 1):\n",
    "    for i in range(iters):\n",
    "        a = np.dot(theta, x)\n",
    "        theta = theta - learning_rate * (1 / (x.shape[1] - 1)) * np.sum((np.dot(x, sigmoid(a) - y)), axis = 0)\n",
    "    return theta"
   ]
  },
  {
   "cell_type": "markdown",
   "metadata": {},
   "source": [
    "- Predict: `def predict(X, y, theta, learning_rate=1, iters)`:"
   ]
  },
  {
   "cell_type": "code",
   "execution_count": 48,
   "metadata": {},
   "outputs": [],
   "source": [
    "def predict(X, y, theta, iters, learning_rate = 1):\n",
    "    h = np.array([[]])\n",
    "    for i in range(10):\n",
    "        Y = np.where(y == i, np.zeros((5000,)), np.ones((5000,)))\n",
    "        theta = gradient_descent(X, Y, theta, iters, learning_rate)\n",
    "        z = np.dot(theta, X)\n",
    "        h = np.append(h, [sigmoid(z)], axis = 1)\n",
    "    h = np.reshape(h, (5000, 10))\n",
    "    prediction = np.argmax(h, axis = 1)\n",
    "    return prediction"
   ]
  },
  {
   "cell_type": "markdown",
   "metadata": {},
   "source": [
    "### Load MNSIT data here\n",
    "\n",
    "There are two file, X.csv and y.csv.\n",
    "You have to load these csv files (read about csv in python) and store them in python variables. \n",
    "There are 5000 images, each line in X.csv is an image (pixels of image of size 20x20 are concatenated to size 400x1) and each line is y.csv is the label of that image (label in n-th line in y.csv corresponds to image in n-th line in X.csv)"
   ]
  },
  {
   "cell_type": "code",
   "execution_count": 32,
   "metadata": {},
   "outputs": [
    {
     "name": "stdout",
     "output_type": "stream",
     "text": [
      "[[500 501 502 503 504 505 506 507 508 509 510 511 512 513 514 515 516 517\n",
      "  518 519 520 521 522 523 524 525 526 527 528 529 530 531 532 533 534 535\n",
      "  536 537 538 539 540 541 542 543 544 545 546 547 548 549 550 551 552 553\n",
      "  554 555 556 557 558 559 560 561 562 563 564 565 566 567 568 569 570 571\n",
      "  572 573 574 575 576 577 578 579 580 581 582 583 584 585 586 587 588 589\n",
      "  590 591 592 593 594 595 596 597 598 599 600 601 602 603 604 605 606 607\n",
      "  608 609 610 611 612 613 614 615 616 617 618 619 620 621 622 623 624 625\n",
      "  626 627 628 629 630 631 632 633 634 635 636 637 638 639 640 641 642 643\n",
      "  644 645 646 647 648 649 650 651 652 653 654 655 656 657 658 659 660 661\n",
      "  662 663 664 665 666 667 668 669 670 671 672 673 674 675 676 677 678 679\n",
      "  680 681 682 683 684 685 686 687 688 689 690 691 692 693 694 695 696 697\n",
      "  698 699 700 701 702 703 704 705 706 707 708 709 710 711 712 713 714 715\n",
      "  716 717 718 719 720 721 722 723 724 725 726 727 728 729 730 731 732 733\n",
      "  734 735 736 737 738 739 740 741 742 743 744 745 746 747 748 749 750 751\n",
      "  752 753 754 755 756 757 758 759 760 761 762 763 764 765 766 767 768 769\n",
      "  770 771 772 773 774 775 776 777 778 779 780 781 782 783 784 785 786 787\n",
      "  788 789 790 791 792 793 794 795 796 797 798 799 800 801 802 803 804 805\n",
      "  806 807 808 809 810 811 812 813 814 815 816 817 818 819 820 821 822 823\n",
      "  824 825 826 827 828 829 830 831 832 833 834 835 836 837 838 839 840 841\n",
      "  842 843 844 845 846 847 848 849 850 851 852 853 854 855 856 857 858 859\n",
      "  860 861 862 863 864 865 866 867 868 869 870 871 872 873 874 875 876 877\n",
      "  878 879 880 881 882 883 884 885 886 887 888 889 890 891 892 893 894 895\n",
      "  896 897 898 899 900 901 902 903 904 905 906 907 908 909 910 911 912 913\n",
      "  914 915 916 917 918 919 920 921 922 923 924 925 926 927 928 929 930 931\n",
      "  932 933 934 935 936 937 938 939 940 941 942 943 944 945 946 947 948 949\n",
      "  950 951 952 953 954 955 956 957 958 959 960 961 962 963 964 965 966 967\n",
      "  968 969 970 971 972 973 974 975 976 977 978 979 980 981 982 983 984 985\n",
      "  986 987 988 989 990 991 992 993 994 995 996 997 998 999]]\n"
     ]
    }
   ],
   "source": [
    "X = np.loadtxt(\"X.csv\", delimiter = \",\", dtype = float)\n",
    "y = np.loadtxt(\"y.csv\")\n",
    "print(np.where(X, 0))"
   ]
  },
  {
   "cell_type": "markdown",
   "metadata": {},
   "source": [
    "Now your task is to:\n",
    "1. Reshape these to 20x20 and show any 5 of them (random) here. \n",
    "2. For regression, you have to use the 400x1 data only. (X will be a 5000x400 matrix and y will be a 1x400 matrix)\n",
    "3. Get you prediction and compare it with the labels in y\n",
    "4. Calculate the error %"
   ]
  },
  {
   "cell_type": "code",
   "execution_count": 75,
   "metadata": {
    "scrolled": false
   },
   "outputs": [
    {
     "name": "stdout",
     "output_type": "stream",
     "text": [
      "[[ 0.89353467  0.87304702  0.86509046 ...  0.9340306   0.87764961\n",
      "   0.89699662]\n",
      " [-0.01144387 -0.01273843 -0.01300333 ... -0.00650266 -0.01223874\n",
      "  -0.01238767]\n",
      " [-0.01144387 -0.01273843 -0.01300333 ... -0.00650266 -0.01223874\n",
      "  -0.01238767]\n",
      " ...\n",
      " [-0.01144387 -0.01273843 -0.01300333 ... -0.00650266 -0.01223874\n",
      "  -0.01238767]\n",
      " [-0.01144387 -0.01273843 -0.01300333 ... -0.00650266 -0.01223874\n",
      "  -0.01238767]\n",
      " [-0.01144387 -0.01273843 -0.01300333 ... -0.00650266 -0.01223874\n",
      "  -0.01238767]]\n"
     ]
    },
    {
     "data": {
      "text/plain": [
       "0"
      ]
     },
     "execution_count": 75,
     "metadata": {},
     "output_type": "execute_result"
    },
    {
     "data": {
      "image/png": "[encoded data removed]",
      "text/plain": [
       "<Figure size 432x288 with 5 Axes>"
      ]
     },
     "metadata": {
      "needs_background": "light"
     },
     "output_type": "display_data"
    }
   ],
   "source": [
    "f = plt.figure()\n",
    "for i in range(1, 6):\n",
    "    f.add_subplot(2, 3, i)\n",
    "    plt.imshow(np.reshape(X[np.random.randint(5000)], (20, 20)).T)\n",
    "x = np.insert(X.T, [0], np.ones((1,5000)), axis = 0)\n",
    "mean = np.sum(x, axis = 0)/5000\n",
    "min = np.amin(x, axis = 0)\n",
    "max = np.amax(x, axis = 0)\n",
    "x = (x - mean)/(max - min)\n",
    "print(x)\n",
    "predict(x, y, np.ones(401,), 1000, 0.3)[2000]"
   ]
  },
  {
   "cell_type": "markdown",
   "metadata": {},
   "source": [
    "Generate the [confusion matrix](https://en.wikipedia.org/wiki/Confusion_matrix) here and show it here: \n"
   ]
  },
  {
   "cell_type": "code",
   "execution_count": null,
   "metadata": {},
   "outputs": [],
   "source": []
  },
  {
   "cell_type": "markdown",
   "metadata": {},
   "source": [
    "#### Bonus task: \n",
    "Use [scikit-learn](https://scikit-learn.org/stable/modules/generated/sklearn.linear_model.LogisticRegression.html) to perform logistic regression (just a single function which will handle all your task :P)"
   ]
  },
  {
   "cell_type": "code",
   "execution_count": null,
   "metadata": {},
   "outputs": [],
   "source": []
  }
 ],
 "metadata": {
  "kernelspec": {
   "display_name": "Python 3",
   "language": "python",
   "name": "python3"
  },
  "language_info": {
   "codemirror_mode": {
    "name": "ipython",
    "version": 3
   },
   "file_extension": ".py",
   "mimetype": "text/x-python",
   "name": "python",
   "nbconvert_exporter": "python",
   "pygments_lexer": "ipython3",
   "version": "3.8.5"
  }
 },
 "nbformat": 4,
 "nbformat_minor": 4
}
