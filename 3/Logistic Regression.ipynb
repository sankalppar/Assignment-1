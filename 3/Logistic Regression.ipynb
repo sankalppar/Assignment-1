{
 "cells": [
  {
   "cell_type": "markdown",
   "metadata": {},
   "source": [
    "# Assignment 3 : Logistic Regression"
   ]
  },
  {
   "cell_type": "markdown",
   "metadata": {},
   "source": [
    "In this assignment you have to use the logistic regression technique you learned in the week 3 of the prescribed course. You have to use numpy to complete the assignment"
   ]
  },
  {
   "cell_type": "markdown",
   "metadata": {},
   "source": [
    "#### Import other the libraries here"
   ]
  },
  {
   "cell_type": "code",
   "execution_count": 1,
   "metadata": {},
   "outputs": [],
   "source": [
    "import math\n",
    "import numpy as np\n",
    "import matplotlib.pyplot as plt"
   ]
  },
  {
   "cell_type": "markdown",
   "metadata": {},
   "source": [
    "##### Define these functions here:\n",
    "- Sigmoid function: `def sigmoid(x):`"
   ]
  },
  {
   "cell_type": "code",
   "execution_count": 2,
   "metadata": {},
   "outputs": [
    {
     "name": "stdout",
     "output_type": "stream",
     "text": [
      "[[0.88079708]\n",
      " [0.98201379]]\n"
     ]
    }
   ],
   "source": [
    "def sigmoid(x):\n",
    "    a = np.exp(-x)\n",
    "    return (1 / (1 + a))\n",
    "print(sigmoid(np.array([[2],[4]])))"
   ]
  },
  {
   "cell_type": "markdown",
   "metadata": {},
   "source": [
    "- cost function: `def cost_fn(x,y,theta):` (refer to the course)"
   ]
  },
  {
   "cell_type": "code",
   "execution_count": 3,
   "metadata": {},
   "outputs": [
    {
     "name": "stdout",
     "output_type": "stream",
     "text": [
      "0.8132616875182228\n",
      "2\n"
     ]
    }
   ],
   "source": [
    "def cost_fn(x, y, theta):\n",
    "    a = np.dot(theta, x)\n",
    "    h = sigmoid(a)\n",
    "    cost = 0\n",
    "    #cost_mat = -(1 / 2 * (x.shape[1]-1)) * (y * np.log(1-h) + (1-y) * np.log(h))\n",
    "    for i in np.array(np.where(y==1))[0]:\n",
    "        cost += -(1 / (2 * (x.shape[1] - 1)) * (np.log(h[0][i]))).item()\n",
    "    for i in np.array(np.where(y==0))[0]:\n",
    "        cost += -(1 / (2 * (x.shape[1] - 1)) * (np.log(1-h[0][i]))).item()                      \n",
    "    #cost = np.sum(cost_mat)\n",
    "    return cost\n",
    "x = np.array([[1, 2],[1, 4]])\n",
    "theta = np.array([[0, 1]])\n",
    "y = np.array([[1, 0]])\n",
    "print(cost_fn(x, y, theta))\n",
    "print(y.shape[1])"
   ]
  },
  {
   "cell_type": "markdown",
   "metadata": {},
   "source": [
    "- Gradient descent: `def gradient_descent(X, y, theta, learning_rate=1, iters):`\n",
    "\n",
    "$\\frac{\\partial J}{\\partial \\theta} = \\frac{1}{m} \\Sigma_{i=1}^m ((h_\\theta(x^{(i)})-y^{(i)})x_j^{(i)})$\n",
    "\n",
    "$\\theta_{j+1}^{(i)} = \\theta_j^{(i)} - \\frac{1}{m} \\Sigma_{i=1}^m ((h_\\theta(x^{(i)})-y^{(i)})x_j^{(i)})$\n",
    "\n",
    "Since these are for each element of your matrix. The final expression will be: (if using matrices)\n",
    "$\\theta_{j+1} = \\theta_j - \\frac{1}{m} \\Sigma_{i=1}^m ((h_\\theta(x)-y)x_j)$\n",
    "\n",
    "You have to initialise $\\theta$ and update it at each iteration according to this gradient descent equation"
   ]
  },
  {
   "cell_type": "code",
   "execution_count": 4,
   "metadata": {},
   "outputs": [],
   "source": [
    "def gradient_descent(X, y, theta, iters, learning_rate = 1):\n",
    "    for i in range(iters):\n",
    "        a = np.dot(theta, x)\n",
    "        theta = theta - learning_rate * (1 / (x.shape[1] - 1)) * np.sum((np.dot(x, sigmoid(a) - y)), axis = 0)\n",
    "    return theta"
   ]
  },
  {
   "cell_type": "markdown",
   "metadata": {},
   "source": [
    "- Predict: `def predict(X, y, theta, learning_rate=1, iters)`:"
   ]
  },
  {
   "cell_type": "code",
   "execution_count": 5,
   "metadata": {},
   "outputs": [],
   "source": [
    "def predict(X, y, theta, iters, learning_rate = 1):\n",
    "    h = np.array([[]])\n",
    "    for i in range(10):\n",
    "        Y = np.where(y == i, np.zeros((5000,)), np.ones((5000,)))\n",
    "        theta = gradient_descent(X, Y, theta, iters, learning_rate)\n",
    "        z = np.dot(theta, X)\n",
    "        h = np.append(h, [sigmoid(z)], axis = 1)\n",
    "    h = np.reshape(h, (5000, 10))\n",
    "    prediction = np.argmax(h, axis = 1)\n",
    "    return prediction"
   ]
  },
  {
   "cell_type": "markdown",
   "metadata": {},
   "source": [
    "### Load MNSIT data here\n",
    "\n",
    "There are two file, X.csv and y.csv.\n",
    "You have to load these csv files (read about csv in python) and store them in python variables. \n",
    "There are 5000 images, each line in X.csv is an image (pixels of image of size 20x20 are concatenated to size 400x1) and each line is y.csv is the label of that image (label in n-th line in y.csv corresponds to image in n-th line in X.csv)"
   ]
  },
  {
   "cell_type": "code",
   "execution_count": 6,
   "metadata": {},
   "outputs": [],
   "source": [
    "X = np.loadtxt(\"X.csv\", delimiter = \",\", dtype = float)\n",
    "y = np.loadtxt(\"y.csv\")"
   ]
  },
  {
   "cell_type": "markdown",
   "metadata": {},
   "source": [
    "Now your task is to:\n",
    "1. Reshape these to 20x20 and show any 5 of them (random) here. \n",
    "2. For regression, you have to use the 400x1 data only. (X will be a 5000x400 matrix and y will be a 1x400 matrix)\n",
    "3. Get you prediction and compare it with the labels in y\n",
    "4. Calculate the error %"
   ]
  },
  {
   "cell_type": "code",
   "execution_count": 8,
   "metadata": {
    "scrolled": false
   },
   "outputs": [
    {
     "name": "stdout",
     "output_type": "stream",
     "text": [
      "[[ 0.89353467  0.87304702  0.86509046 ...  0.9340306   0.87764961\n",
      "   0.89699662]\n",
      " [-0.01144387 -0.01273843 -0.01300333 ... -0.00650266 -0.01223874\n",
      "  -0.01238767]\n",
      " [-0.01144387 -0.01273843 -0.01300333 ... -0.00650266 -0.01223874\n",
      "  -0.01238767]\n",
      " ...\n",
      " [-0.01144387 -0.01273843 -0.01300333 ... -0.00650266 -0.01223874\n",
      "  -0.01238767]\n",
      " [-0.01144387 -0.01273843 -0.01300333 ... -0.00650266 -0.01223874\n",
      "  -0.01238767]\n",
      " [-0.01144387 -0.01273843 -0.01300333 ... -0.00650266 -0.01223874\n",
      "  -0.01238767]]\n"
     ]
    },
    {
     "data": {
      "text/plain": [
       "0"
      ]
     },
     "execution_count": 8,
     "metadata": {},
     "output_type": "execute_result"
    },
    {
     "data": {
      "image/png": "[encoded data removed]",
      "text/plain": [
       "<Figure size 432x288 with 5 Axes>"
      ]
     },
     "metadata": {
      "needs_background": "light"
     },
     "output_type": "display_data"
    }
   ],
   "source": [
    "f = plt.figure()\n",
    "for i in range(1, 6):\n",
    "    f.add_subplot(2, 3, i)\n",
    "    plt.imshow(np.reshape(X[np.random.randint(5000)], (20, 20)).T)\n",
    "x = np.insert(X.T, [0], np.ones((1,5000)), axis = 0)\n",
    "mean = np.sum(x, axis = 0)/5000\n",
    "min = np.amin(x, axis = 0)\n",
    "max = np.amax(x, axis = 0)\n",
    "x = (x - mean)/(max - min)\n",
    "print(x)\n",
    "predict(x, y, np.arange(0, 4.01, 0.01), 1000, 1)[2000]"
   ]
  },
  {
   "cell_type": "markdown",
   "metadata": {},
   "source": [
    "Generate the [confusion matrix](https://en.wikipedia.org/wiki/Confusion_matrix) here and show it here: \n"
   ]
  },
  {
   "cell_type": "code",
   "execution_count": null,
   "metadata": {},
   "outputs": [],
   "source": []
  },
  {
   "cell_type": "markdown",
   "metadata": {},
   "source": [
    "#### Bonus task: \n",
    "Use [scikit-learn](https://scikit-learn.org/stable/modules/generated/sklearn.linear_model.LogisticRegression.html) to perform logistic regression (just a single function which will handle all your task :P)"
   ]
  },
  {
   "cell_type": "code",
   "execution_count": null,
   "metadata": {},
   "outputs": [],
   "source": []
  }
 ],
 "metadata": {
  "kernelspec": {
   "display_name": "Python 3",
   "language": "python",
   "name": "python3"
  },
  "language_info": {
   "codemirror_mode": {
    "name": "ipython",
    "version": 3
   },
   "file_extension": ".py",
   "mimetype": "text/x-python",
   "name": "python",
   "nbconvert_exporter": "python",
   "pygments_lexer": "ipython3",
   "version": "3.8.5"
  }
 },
 "nbformat": 4,
 "nbformat_minor": 4
}
