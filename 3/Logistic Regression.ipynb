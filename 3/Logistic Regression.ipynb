{
 "cells": [
  {
   "cell_type": "markdown",
   "metadata": {},
   "source": [
    "# Assignment 3 : Logistic Regression"
   ]
  },
  {
   "cell_type": "markdown",
   "metadata": {},
   "source": [
    "In this assignment you have to use the logistic regression technique you learned in the week 3 of the prescribed course. You have to use numpy to complete the assignment"
   ]
  },
  {
   "cell_type": "markdown",
   "metadata": {},
   "source": [
    "#### Import other the libraries here"
   ]
  },
  {
   "cell_type": "code",
   "execution_count": 68,
   "metadata": {},
   "outputs": [],
   "source": [
    "import math\n",
    "import numpy as np\n",
    "import matplotlib.pyplot as plt\n",
    "from sklearn.linear_model import LogisticRegression"
   ]
  },
  {
   "cell_type": "markdown",
   "metadata": {},
   "source": [
    "##### Define these functions here:\n",
    "- Sigmoid function: `def sigmoid(x):`"
   ]
  },
  {
   "cell_type": "code",
   "execution_count": 2,
   "metadata": {},
   "outputs": [],
   "source": [
    "def sigmoid(x):\n",
    "    a = np.exp(-x)\n",
    "    x = (1 / (1 + a))\n",
    "    return x"
   ]
  },
  {
   "cell_type": "markdown",
   "metadata": {},
   "source": [
    "- cost function: `def cost_fn(x,y,theta):` (refer to the course)"
   ]
  },
  {
   "cell_type": "code",
   "execution_count": 76,
   "metadata": {},
   "outputs": [],
   "source": [
    "def cost_fn(x, y, theta):\n",
    "    a = np.dot(x, theta)\n",
    "    h = sigmoid(a)\n",
    "    cost = 0\n",
    "    #cost_mat = -(1 / 2 * (x.shape[1]-1)) * (y * np.log(1-h) + (1-y) * np.log(h))\n",
    "    for i in np.array(np.where(y==1))[0]:\n",
    "        cost += np.sum(-(1 / (2 * (x.shape[1])) * (np.log(h[i]))))\n",
    "    for i in np.array(np.where(y==0))[0]:\n",
    "        cost += np.sum(-(1 / (2 * (x.shape[1])) * (np.log(1-h[i]))))                      \n",
    "    #cost = np.sum(cost_mat)\n",
    "    return cost"
   ]
  },
  {
   "cell_type": "markdown",
   "metadata": {},
   "source": [
    "- Gradient descent: `def gradient_descent(X, y, theta, learning_rate=1, iters):`\n",
    "\n",
    "$\\frac{\\partial J}{\\partial \\theta} = \\frac{1}{m} \\Sigma_{i=1}^m ((h_\\theta(x^{(i)})-y^{(i)})x_j^{(i)})$\n",
    "\n",
    "$\\theta_{j+1}^{(i)} = \\theta_j^{(i)} - \\frac{1}{m} \\Sigma_{i=1}^m ((h_\\theta(x^{(i)})-y^{(i)})x_j^{(i)})$\n",
    "\n",
    "Since these are for each element of your matrix. The final expression will be: (if using matrices)\n",
    "$\\theta_{j+1} = \\theta_j - \\frac{1}{m} \\Sigma_{i=1}^m ((h_\\theta(x)-y)x_j)$\n",
    "\n",
    "You have to initialise $\\theta$ and update it at each iteration according to this gradient descent equation"
   ]
  },
  {
   "cell_type": "code",
   "execution_count": 58,
   "metadata": {},
   "outputs": [],
   "source": [
    "def gradient_descent(X, y, theta, iters, learning_rate = 1):\n",
    "    for i in range(iters):\n",
    "        a = np.dot(X, theta)\n",
    "        theta = theta - (learning_rate / (X.shape[0])) * np.dot(X.T, (sigmoid(a) - y))\n",
    "    return theta"
   ]
  },
  {
   "cell_type": "markdown",
   "metadata": {},
   "source": [
    "- Predict: `def predict(X, y, theta, learning_rate=1, iters)`:"
   ]
  },
  {
   "cell_type": "code",
   "execution_count": 74,
   "metadata": {},
   "outputs": [],
   "source": [
    "def predict(X, y, theta, iters, learning_rate = 1):\n",
    "    H_X=np.zeros((X.shape[0],10), dtype=float)\n",
    "    for i in range(10):\n",
    "        Y = np.ones([5000,1])\n",
    "        Y = np.where(y==i, Y, [0])\n",
    "        theta = np.ones([401,1])\n",
    "        theta = gradient_descent(X, Y, theta, iters, learning_rate)\n",
    "        #print(cost_fn(X, Y, theta))\n",
    "        z = np.dot(X, theta)\n",
    "        H_X[:,i]=z.reshape(5000,)\n",
    "    prediction = np.argmax(H_X, axis = 1)\n",
    "    return prediction"
   ]
  },
  {
   "cell_type": "markdown",
   "metadata": {},
   "source": [
    "### Load MNSIT data here\n",
    "\n",
    "There are two file, X.csv and y.csv.\n",
    "You have to load these csv files (read about csv in python) and store them in python variables. \n",
    "There are 5000 images, each line in X.csv is an image (pixels of image of size 20x20 are concatenated to size 400x1) and each line is y.csv is the label of that image (label in n-th line in y.csv corresponds to image in n-th line in X.csv)"
   ]
  },
  {
   "cell_type": "code",
   "execution_count": 40,
   "metadata": {},
   "outputs": [],
   "source": [
    "X = np.loadtxt(\"X.csv\", delimiter=\",\")\n",
    "y = np.loadtxt(\"y.csv\", delimiter = \",\")\n",
    "X = np.reshape(X,(5000,400))"
   ]
  },
  {
   "cell_type": "markdown",
   "metadata": {},
   "source": [
    "Now your task is to:\n",
    "1. Reshape these to 20x20 and show any 5 of them (random) here. \n",
    "2. For regression, you have to use the 400x1 data only. (X will be a 5000x400 matrix and y will be a 1x400 matrix)\n",
    "3. Get you prediction and compare it with the labels in y\n",
    "4. Calculate the error %"
   ]
  },
  {
   "cell_type": "code",
   "execution_count": 77,
   "metadata": {
    "scrolled": false
   },
   "outputs": [
    {
     "name": "stdout",
     "output_type": "stream",
     "text": [
      "0.14478729590612713\n",
      "0.1877019293324227\n",
      "0.4623271645478113\n",
      "0.4586596496624242\n",
      "0.38136834881659754\n",
      "0.5011195689932433\n",
      "0.23686879600722527\n",
      "0.304117732625992\n",
      "0.6206846711728375\n",
      "0.5848429584269835\n",
      "6.8799999999999955 % error\n"
     ]
    },
    {
     "data": {
      "image/png": "[encoded data removed]",
      "text/plain": [
       "<Figure size 432x288 with 5 Axes>"
      ]
     },
     "metadata": {
      "needs_background": "light"
     },
     "output_type": "display_data"
    }
   ],
   "source": [
    "f = plt.figure()\n",
    "for i in range(1, 6):\n",
    "    f.add_subplot(2, 3, i)\n",
    "    plt.imshow(np.reshape(X[np.random.randint(5000)], (20, 20)).T)\n",
    "y = np.reshape(y, [5000, 1])\n",
    "x = np.hstack((np.ones([5000, 1]),X))\n",
    "prediction = predict(x, y, np.ones([401,1]), 1000, 1)\n",
    "wrong = 0\n",
    "for i in range(5000):\n",
    "    if prediction[i] == y[i]:\n",
    "        wrong+=1\n",
    "print(100-wrong/50, \"% error\")"
   ]
  },
  {
   "cell_type": "markdown",
   "metadata": {},
   "source": [
    "Generate the [confusion matrix](https://en.wikipedia.org/wiki/Confusion_matrix) here and show it here: \n"
   ]
  },
  {
   "cell_type": "code",
   "execution_count": 67,
   "metadata": {},
   "outputs": [
    {
     "name": "stdout",
     "output_type": "stream",
     "text": [
      "[[495.   0.   3.   0.   3.   3.   2.   2.   1.   5.]\n",
      " [  0. 487.   3.   3.   2.   1.   2.   4.   6.   3.]\n",
      " [  0.   2. 447.  14.   5.   4.   0.   4.   6.   4.]\n",
      " [  0.   0.   4. 447.   0.  17.   0.   0.   5.   6.]\n",
      " [  1.   0.   9.   0. 465.   9.   0.   6.   4.   7.]\n",
      " [  0.   6.   3.  19.   0. 447.   7.   1.   7.   3.]\n",
      " [  3.   0.   3.   1.   3.   5. 485.   1.   5.   0.]\n",
      " [  0.   0.   9.   7.   0.   0.   1. 470.   1.  16.]\n",
      " [  1.   5.  15.   5.   3.  10.   2.   1. 460.   3.]\n",
      " [  0.   0.   4.   4.  19.   4.   1.  11.   5. 453.]]\n"
     ]
    }
   ],
   "source": [
    "confusion = np.zeros([10, 10])\n",
    "for i in range(5000):\n",
    "    confusion[int(prediction[i]), int(y[i])]+=1\n",
    "print(confusion)"
   ]
  },
  {
   "cell_type": "markdown",
   "metadata": {},
   "source": [
    "#### Bonus task: \n",
    "Use [scikit-learn](https://scikit-learn.org/stable/modules/generated/sklearn.linear_model.LogisticRegression.html) to perform logistic regression (just a single function which will handle all your task :P)"
   ]
  },
  {
   "cell_type": "code",
   "execution_count": 71,
   "metadata": {},
   "outputs": [
    {
     "name": "stderr",
     "output_type": "stream",
     "text": [
      "/home/sankalp/anaconda3/lib/python3.8/site-packages/sklearn/utils/validation.py:63: DataConversionWarning: A column-vector y was passed when a 1d array was expected. Please change the shape of y to (n_samples, ), for example using ravel().\n",
      "  return f(*args, **kwargs)\n"
     ]
    },
    {
     "name": "stdout",
     "output_type": "stream",
     "text": [
      "[0. 0. 0. ... 9. 9. 7.]\n"
     ]
    },
    {
     "name": "stderr",
     "output_type": "stream",
     "text": [
      "/home/sankalp/anaconda3/lib/python3.8/site-packages/sklearn/linear_model/_logistic.py:763: ConvergenceWarning: lbfgs failed to converge (status=1):\n",
      "STOP: TOTAL NO. of ITERATIONS REACHED LIMIT.\n",
      "\n",
      "Increase the number of iterations (max_iter) or scale the data as shown in:\n",
      "    https://scikit-learn.org/stable/modules/preprocessing.html\n",
      "Please also refer to the documentation for alternative solver options:\n",
      "    https://scikit-learn.org/stable/modules/linear_model.html#logistic-regression\n",
      "  n_iter_i = _check_optimize_result(\n"
     ]
    }
   ],
   "source": [
    "LR = LogisticRegression()\n",
    "LR.fit(X, y)\n",
    "predictionsk = LR.predict(X)\n",
    "print(predictionsk)"
   ]
  },
  {
   "cell_type": "code",
   "execution_count": null,
   "metadata": {},
   "outputs": [],
   "source": []
  }
 ],
 "metadata": {
  "kernelspec": {
   "display_name": "Python 3",
   "language": "python",
   "name": "python3"
  },
  "language_info": {
   "codemirror_mode": {
    "name": "ipython",
    "version": 3
   },
   "file_extension": ".py",
   "mimetype": "text/x-python",
   "name": "python",
   "nbconvert_exporter": "python",
   "pygments_lexer": "ipython3",
   "version": "3.8.5"
  }
 },
 "nbformat": 4,
 "nbformat_minor": 4
}
