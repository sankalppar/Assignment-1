{
 "cells": [
  {
   "cell_type": "markdown",
   "metadata": {},
   "source": [
    "# Assignment 4 : Neural Networks"
   ]
  },
  {
   "cell_type": "markdown",
   "metadata": {},
   "source": [
    "In this assignment, you will design an artificial neural network for a binary classification task. We will use Keras for implementing the neural network in this assignment. You can also use numpy, pandas and/or scikit-learn wherever you find them useful. You'll also need matplotlib"
   ]
  },
  {
   "cell_type": "markdown",
   "metadata": {},
   "source": [
    "#### Import the required libraries here"
   ]
  },
  {
   "cell_type": "code",
   "execution_count": 51,
   "metadata": {},
   "outputs": [],
   "source": [
    "import numpy as np\n",
    "from tensorflow import keras\n",
    "import tensorflow as tf"
   ]
  },
  {
   "cell_type": "markdown",
   "metadata": {},
   "source": [
    "Load the dataset from the file named 'data.csv' . You'll find 7200 datapoints in this file. The first 6 columns are the features (X), while the last column has a binary label (Y) for each feature vector. After loading the dataset, divide it into a training set and a test set (cross-validation set to be more accurate). You can have 70% datapoints in the training set and 30% in the test set. An 80-20 split is also acceptable.\n",
    "\n",
    "Normalize your training set using mean and variances."
   ]
  },
  {
   "cell_type": "code",
   "execution_count": 23,
   "metadata": {},
   "outputs": [
    {
     "name": "stdout",
     "output_type": "stream",
     "text": [
      "(array([  33,   41,   44,   72,   76,   84,   93,  113,  114,  123,  131,\n",
      "        135,  143,  144,  149,  171,  187,  193,  210,  217,  219,  223,\n",
      "        235,  240,  267,  279,  280,  281,  310,  315,  336,  349,  353,\n",
      "        366,  371,  392,  408,  417,  422,  431,  441,  467,  468,  478,\n",
      "        489,  490,  492,  502,  517,  525,  544,  564,  567,  571,  573,\n",
      "        578,  583,  607,  627,  645,  651,  653,  667,  679,  739,  741,\n",
      "        764,  813,  816,  821,  834,  836,  868,  872,  885,  890,  900,\n",
      "        909,  910,  916,  918,  929,  931,  938,  981,  984,  990,  998,\n",
      "       1000, 1011, 1050, 1107, 1118, 1129, 1157, 1168, 1190, 1192, 1216,\n",
      "       1229, 1243, 1249, 1251, 1253, 1254, 1255, 1259, 1262, 1265, 1287,\n",
      "       1316, 1333, 1341, 1361, 1390, 1400, 1416, 1429, 1437, 1441, 1472,\n",
      "       1497, 1509, 1533, 1542, 1551, 1586, 1587, 1605, 1614, 1623, 1628,\n",
      "       1632, 1661, 1663, 1673, 1677, 1698, 1701, 1728, 1764, 1777, 1800,\n",
      "       1836, 1842, 1850, 1869, 1871, 1906, 1932, 1955, 1967, 1988, 2010,\n",
      "       2017, 2018, 2024, 2027, 2036, 2062, 2077, 2138, 2141, 2156]),)\n"
     ]
    }
   ],
   "source": [
    "data = np.loadtxt(\"data.csv\",delimiter = ',')\n",
    "y = data.T[6]\n",
    "x = data.T[:6]\n",
    "x = x.T\n",
    "x_mean = np.sum(x, axis = 0)/7200\n",
    "squared = np.square(x)\n",
    "variance = np.sqrt(np.sum(squared, axis = 0)/7200 - np.square(x_mean))\n",
    "for i in range(7200):\n",
    "    for j in range(6):\n",
    "        x[i][j] = (x[i][j] - x_mean[j])/variance[j]\n",
    "x_train = x[:5040]\n",
    "x_test = x[5040:7200]\n",
    "y_train = y.T[:5040]\n",
    "y_test = y.T[5040:7200]\n",
    "print(np.where(y_test == 1))"
   ]
  },
  {
   "cell_type": "markdown",
   "metadata": {},
   "source": [
    "Find the number of positive and negative samples in the training set /test set /the whole dataset. You'll use this result while evaluating your neural network model later."
   ]
  },
  {
   "cell_type": "code",
   "execution_count": 3,
   "metadata": {},
   "outputs": [],
   "source": [
    "test_neg = np.count_nonzero(x_test < 0)\n",
    "train_pos = np.count_nonzero(x_train > 0)\n",
    "test_pos = np.count_nonzero(x_test > 0)\n",
    "train_neg = np.count_nonzero(x_train < 0)"
   ]
  },
  {
   "cell_type": "markdown",
   "metadata": {},
   "source": [
    "#### Define the architecture of the neural network\n",
    "\n",
    "Initialise a sequential neural network model using keras.models.Sequential(), and add dense layers (dense layer means fully-connected layer) to it using keras.layers.Dense() (you easily how to do this from the internet).\n",
    "\n",
    "Use ReLU activation function in every layer, except the last one, where you'll use the sigmoid activation function, since it's a binary classification task.\n",
    "\n",
    "The choice of the number of layers and the number of units in a layer is totally up to you."
   ]
  },
  {
   "cell_type": "code",
   "execution_count": 16,
   "metadata": {},
   "outputs": [],
   "source": [
    "model  = keras.models.Sequential()\n",
    "model.add(keras.layers.Dense(3, activation = tf.keras.activations.relu))\n",
    "model.add(keras.layers.Dense(3, activation = tf.keras.activations.relu))\n",
    "model.add(keras.layers.Dense(1, activation = tf.keras.activations.sigmoid))"
   ]
  },
  {
   "cell_type": "markdown",
   "metadata": {},
   "source": [
    "#### Training the neural network\n",
    "\n",
    "1. Compile your nn model using model.compile() . Use the appropriate loss function (binary cross-entropy), and use Adam optimizer. Pass on 'accuracy' as a metric, so that you get to see the accuracy on your training set after every iteration of Adam optimization (a form of mini-batch gradient descent).\n",
    "\n",
    "Try to look-up and learn a bit about what stochastic gradient descent and mini-batch gradient descent essentilly are. You'll use mini-batches while training your model.\n",
    "\n",
    "2. Train your model using model.fit() (this will take a while, perhaps a few minutes). Use appropriate number of ephocs and batch size (you have to decide which values work the best). Don't forget that you have to train your model on the training set, and not the test set"
   ]
  },
  {
   "cell_type": "code",
   "execution_count": 19,
   "metadata": {},
   "outputs": [
    {
     "name": "stdout",
     "output_type": "stream",
     "text": [
      "Epoch 1/5\n",
      "504/504 [==============================] - 1s 1ms/step - loss: 0.2308 - accuracy: 0.9238\n",
      "Epoch 2/5\n",
      "504/504 [==============================] - 1s 1ms/step - loss: 0.2087 - accuracy: 0.9240\n",
      "Epoch 3/5\n",
      "504/504 [==============================] - 1s 1ms/step - loss: 0.1486 - accuracy: 0.9426\n",
      "Epoch 4/5\n",
      "504/504 [==============================] - 1s 1ms/step - loss: 0.1227 - accuracy: 0.9535\n",
      "Epoch 5/5\n",
      "504/504 [==============================] - 1s 1ms/step - loss: 0.1141 - accuracy: 0.9563\n"
     ]
    },
    {
     "data": {
      "text/plain": [
       "<tensorflow.python.keras.callbacks.History at 0x7fa85c3ac5e0>"
      ]
     },
     "execution_count": 19,
     "metadata": {},
     "output_type": "execute_result"
    }
   ],
   "source": [
    "model.compile(optimizer = \"Adam\", loss = \"bce\", metrics = [\"accuracy\"])\n",
    "model.fit(x_train, y_train, 10, 5, 1)"
   ]
  },
  {
   "cell_type": "markdown",
   "metadata": {},
   "source": [
    "#### Evaluation of the model on the test set\n",
    "\n",
    "Find the accuracy of your trained model on the test set. Don't forget that you had normalized your training set before training the same model."
   ]
  },
  {
   "cell_type": "code",
   "execution_count": 53,
   "metadata": {},
   "outputs": [
    {
     "name": "stdout",
     "output_type": "stream",
     "text": [
      "216/216 [==============================] - 0s 810us/step\n",
      "0.9467592592592593\n"
     ]
    }
   ],
   "source": [
    "prediction = model.predict(x_test, 10, 1)\n",
    "prediction = np.where(prediction > 0.5, prediction, 0)\n",
    "prediction = np.where(prediction < 0.5, prediction, 1)\n",
    "accuracy = np.count_nonzero(y_test - prediction.T == 0)/y_test.size\n",
    "print(accuracy)"
   ]
  },
  {
   "cell_type": "markdown",
   "metadata": {},
   "source": [
    "Is accuracy really the best metric to evaluate our model on the test set here? What was the proportion of positive samples to negative samples in the dataset? What would have been the accuracy of a model that would have output '0' for any input? By the way, this dataset is for detecting the presence of thyroid in a patient.\n",
    "\n",
    "Now, find out about the metrics - recall, precision and F1-score. Use these metrics to evaluate your model on the test set"
   ]
  },
  {
   "cell_type": "code",
   "execution_count": null,
   "metadata": {},
   "outputs": [],
   "source": []
  },
  {
   "cell_type": "markdown",
   "metadata": {},
   "source": [
    "Now, tune the hyperparameters of your model (like number of layers, number of units in different layers, etc.) to try and do better and better on the test set."
   ]
  },
  {
   "cell_type": "markdown",
   "metadata": {},
   "source": [
    "\n",
    "#### Plotting histograms based on prediction values\n",
    "\n",
    "Now, you will plot 2 historgrams of prediction values (0 to 1, or 0% to 100%) on the training data, output by your nn model - one histogram for positive samples and another for negative samples. Plot both the histograms in the same figure. \n",
    "\n",
    "Here's one such plot I made with my nn model:\n",
    "<img src=\"files/index.jpeg\">\n",
    "\n",
    "The blue histogram is for negative samples and the red one is for positive samples (add a legend to the plots, unlike me).\n",
    "\n",
    "Use log-scale on the y-axis (number of occurances in the given predicted value range), like I have done.\n",
    "\n",
    "Now, what can you infer from the histograms you got? How should an ideal pair of histograms look like?"
   ]
  },
  {
   "cell_type": "code",
   "execution_count": null,
   "metadata": {},
   "outputs": [],
   "source": []
  }
 ],
 "metadata": {
  "kernelspec": {
   "display_name": "Python 3",
   "language": "python",
   "name": "python3"
  },
  "language_info": {
   "codemirror_mode": {
    "name": "ipython",
    "version": 3
   },
   "file_extension": ".py",
   "mimetype": "text/x-python",
   "name": "python",
   "nbconvert_exporter": "python",
   "pygments_lexer": "ipython3",
   "version": "3.8.5"
  }
 },
 "nbformat": 4,
 "nbformat_minor": 5
}
