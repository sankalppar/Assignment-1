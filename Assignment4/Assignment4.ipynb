{
 "cells": [
  {
   "cell_type": "markdown",
   "metadata": {},
   "source": [
    "# Assignment 4 : Neural Networks"
   ]
  },
  {
   "cell_type": "markdown",
   "metadata": {},
   "source": [
    "In this assignment, you will design an artificial neural network for a binary classification task. We will use Keras for implementing the neural network in this assignment. You can also use numpy, pandas and/or scikit-learn wherever you find them useful. You'll also need matplotlib"
   ]
  },
  {
   "cell_type": "markdown",
   "metadata": {},
   "source": [
    "#### Import the required libraries here"
   ]
  },
  {
   "cell_type": "code",
   "execution_count": 1,
   "metadata": {},
   "outputs": [],
   "source": [
    "import numpy as np\n",
    "from tensorflow import keras\n",
    "import tensorflow as tf\n",
    "import matplotlib.pyplot as plt"
   ]
  },
  {
   "cell_type": "markdown",
   "metadata": {},
   "source": [
    "Load the dataset from the file named 'data.csv' . You'll find 7200 datapoints in this file. The first 6 columns are the features (X), while the last column has a binary label (Y) for each feature vector. After loading the dataset, divide it into a training set and a test set (cross-validation set to be more accurate). You can have 70% datapoints in the training set and 30% in the test set. An 80-20 split is also acceptable.\n",
    "\n",
    "Normalize your training set using mean and variances."
   ]
  },
  {
   "cell_type": "code",
   "execution_count": 2,
   "metadata": {},
   "outputs": [
    {
     "name": "stdout",
     "output_type": "stream",
     "text": [
      "(array([  33,   41,   44,   72,   76,   84,   93,  113,  114,  123,  131,\n",
      "        135,  143,  144,  149,  171,  187,  193,  210,  217,  219,  223,\n",
      "        235,  240,  267,  279,  280,  281,  310,  315,  336,  349,  353,\n",
      "        366,  371,  392,  408,  417,  422,  431,  441,  467,  468,  478,\n",
      "        489,  490,  492,  502,  517,  525,  544,  564,  567,  571,  573,\n",
      "        578,  583,  607,  627,  645,  651,  653,  667,  679,  739,  741,\n",
      "        764,  813,  816,  821,  834,  836,  868,  872,  885,  890,  900,\n",
      "        909,  910,  916,  918,  929,  931,  938,  981,  984,  990,  998,\n",
      "       1000, 1011, 1050, 1107, 1118, 1129, 1157, 1168, 1190, 1192, 1216,\n",
      "       1229, 1243, 1249, 1251, 1253, 1254, 1255, 1259, 1262, 1265, 1287,\n",
      "       1316, 1333, 1341, 1361, 1390, 1400, 1416, 1429, 1437, 1441, 1472,\n",
      "       1497, 1509, 1533, 1542, 1551, 1586, 1587, 1605, 1614, 1623, 1628,\n",
      "       1632, 1661, 1663, 1673, 1677, 1698, 1701, 1728, 1764, 1777, 1800,\n",
      "       1836, 1842, 1850, 1869, 1871, 1906, 1932, 1955, 1967, 1988, 2010,\n",
      "       2017, 2018, 2024, 2027, 2036, 2062, 2077, 2138, 2141, 2156]),)\n",
      "[[ 1.10686902 -0.18545824 -0.66016904  0.29388451 -0.82994022  0.9083046 ]\n",
      " [-1.48221365 -0.2006904   1.32957936  0.93337629  1.84256729 -0.14447084]\n",
      " [-0.26692995 -0.12888163  0.53368    -0.20658732  1.73776307 -0.97560935]\n",
      " ...\n",
      " [-0.05557626 -0.17849496  0.01634541 -0.5402352  -1.61597184  0.5758492 ]\n",
      " [-0.90099101 -0.08971321  0.01634541 -0.5402352  -0.46312546 -0.33840316]\n",
      " [ 1.10686902 -0.18719905  0.01634541 -0.79047111 -0.41072336 -0.64315395]]\n"
     ]
    }
   ],
   "source": [
    "data = np.loadtxt(\"data.csv\",delimiter = ',')\n",
    "y = data.T[6]\n",
    "x = data.T[:6]\n",
    "x = x.T\n",
    "x_mean = np.sum(x, axis = 0)/7200\n",
    "squared = np.square(x)\n",
    "variance = np.sqrt(np.sum(squared, axis = 0)/7200 - np.square(x_mean))\n",
    "for i in range(7200):\n",
    "    for j in range(6):\n",
    "        x[i][j] = (x[i][j] - x_mean[j])/variance[j]\n",
    "x_train = x[:5040]\n",
    "x_test = x[5040:7200]\n",
    "y_train = y.T[:5040]\n",
    "y_test = y.T[5040:7200]\n",
    "print(np.where(y_test == 1))\n",
    "print(x)"
   ]
  },
  {
   "cell_type": "markdown",
   "metadata": {},
   "source": [
    "Find the number of positive and negative samples in the training set /test set /the whole dataset. You'll use this result while evaluating your neural network model later."
   ]
  },
  {
   "cell_type": "code",
   "execution_count": 3,
   "metadata": {},
   "outputs": [
    {
     "name": "stdout",
     "output_type": "stream",
     "text": [
      "(array([   0,    1,    2, ..., 2157, 2158, 2159]),)\n"
     ]
    }
   ],
   "source": [
    "test_neg = np.where(y_test == 0)\n",
    "test_pos = np.where(y_test == 1)\n",
    "print(test_neg)"
   ]
  },
  {
   "cell_type": "markdown",
   "metadata": {},
   "source": [
    "#### Define the architecture of the neural network\n",
    "\n",
    "Initialise a sequential neural network model using keras.models.Sequential(), and add dense layers (dense layer means fully-connected layer) to it using keras.layers.Dense() (you easily how to do this from the internet).\n",
    "\n",
    "Use ReLU activation function in every layer, except the last one, where you'll use the sigmoid activation function, since it's a binary classification task.\n",
    "\n",
    "The choice of the number of layers and the number of units in a layer is totally up to you."
   ]
  },
  {
   "cell_type": "code",
   "execution_count": 4,
   "metadata": {},
   "outputs": [],
   "source": [
    "model  = keras.models.Sequential()\n",
    "model.add(keras.layers.Dense(4, activation = tf.keras.activations.relu))\n",
    "model.add(keras.layers.Dense(4, activation = tf.keras.activations.relu))\n",
    "model.add(keras.layers.Dense(4, activation = tf.keras.activations.relu))\n",
    "model.add(keras.layers.Dense(1, activation = tf.keras.activations.sigmoid))"
   ]
  },
  {
   "cell_type": "markdown",
   "metadata": {},
   "source": [
    "#### Training the neural network\n",
    "\n",
    "1. Compile your nn model using model.compile() . Use the appropriate loss function (binary cross-entropy), and use Adam optimizer. Pass on 'accuracy' as a metric, so that you get to see the accuracy on your training set after every iteration of Adam optimization (a form of mini-batch gradient descent).\n",
    "\n",
    "Try to look-up and learn a bit about what stochastic gradient descent and mini-batch gradient descent essentilly are. You'll use mini-batches while training your model.\n",
    "\n",
    "2. Train your model using model.fit() (this will take a while, perhaps a few minutes). Use appropriate number of ephocs and batch size (you have to decide which values work the best). Don't forget that you have to train your model on the training set, and not the test set"
   ]
  },
  {
   "cell_type": "code",
   "execution_count": 13,
   "metadata": {},
   "outputs": [
    {
     "name": "stdout",
     "output_type": "stream",
     "text": [
      "Epoch 1/60\n",
      "1008/1008 [==============================] - 2s 1ms/step - loss: 0.0581 - accuracy: 0.9733\n",
      "Epoch 2/60\n",
      "1008/1008 [==============================] - 1s 1ms/step - loss: 0.0549 - accuracy: 0.9755\n",
      "Epoch 3/60\n",
      "1008/1008 [==============================] - 1s 1ms/step - loss: 0.0578 - accuracy: 0.9724\n",
      "Epoch 4/60\n",
      "1008/1008 [==============================] - 1s 1ms/step - loss: 0.0500 - accuracy: 0.9775\n",
      "Epoch 5/60\n",
      "1008/1008 [==============================] - 1s 1ms/step - loss: 0.0571 - accuracy: 0.9708\n",
      "Epoch 6/60\n",
      "1008/1008 [==============================] - 1s 1ms/step - loss: 0.0532 - accuracy: 0.9735\n",
      "Epoch 7/60\n",
      "1008/1008 [==============================] - 1s 1ms/step - loss: 0.0473 - accuracy: 0.9792\n",
      "Epoch 8/60\n",
      "1008/1008 [==============================] - 1s 1ms/step - loss: 0.0550 - accuracy: 0.9731\n",
      "Epoch 9/60\n",
      "1008/1008 [==============================] - 1s 1ms/step - loss: 0.0512 - accuracy: 0.9743\n",
      "Epoch 10/60\n",
      "1008/1008 [==============================] - 1s 1ms/step - loss: 0.0532 - accuracy: 0.9733\n",
      "Epoch 11/60\n",
      "1008/1008 [==============================] - 1s 1ms/step - loss: 0.0531 - accuracy: 0.9748\n",
      "Epoch 12/60\n",
      "1008/1008 [==============================] - 1s 1ms/step - loss: 0.0488 - accuracy: 0.9778\n",
      "Epoch 13/60\n",
      "1008/1008 [==============================] - 1s 1ms/step - loss: 0.0597 - accuracy: 0.9702\n",
      "Epoch 14/60\n",
      "1008/1008 [==============================] - 1s 1ms/step - loss: 0.0528 - accuracy: 0.9758\n",
      "Epoch 15/60\n",
      "1008/1008 [==============================] - 1s 1ms/step - loss: 0.0491 - accuracy: 0.9768\n",
      "Epoch 16/60\n",
      "1008/1008 [==============================] - 1s 1ms/step - loss: 0.0530 - accuracy: 0.9740\n",
      "Epoch 17/60\n",
      "1008/1008 [==============================] - 1s 1ms/step - loss: 0.0482 - accuracy: 0.9768\n",
      "Epoch 18/60\n",
      "1008/1008 [==============================] - 1s 1ms/step - loss: 0.0515 - accuracy: 0.9730\n",
      "Epoch 19/60\n",
      "1008/1008 [==============================] - 1s 1ms/step - loss: 0.0510 - accuracy: 0.9746\n",
      "Epoch 20/60\n",
      "1008/1008 [==============================] - 1s 1ms/step - loss: 0.0461 - accuracy: 0.9770\n",
      "Epoch 21/60\n",
      "1008/1008 [==============================] - 1s 1ms/step - loss: 0.0493 - accuracy: 0.9741\n",
      "Epoch 22/60\n",
      "1008/1008 [==============================] - 1s 1ms/step - loss: 0.0467 - accuracy: 0.9785\n",
      "Epoch 23/60\n",
      "1008/1008 [==============================] - 1s 1ms/step - loss: 0.0441 - accuracy: 0.9781\n",
      "Epoch 24/60\n",
      "1008/1008 [==============================] - 1s 1ms/step - loss: 0.0490 - accuracy: 0.9769\n",
      "Epoch 25/60\n",
      "1008/1008 [==============================] - 1s 1ms/step - loss: 0.0510 - accuracy: 0.9749\n",
      "Epoch 26/60\n",
      "1008/1008 [==============================] - 1s 1ms/step - loss: 0.0502 - accuracy: 0.9751\n",
      "Epoch 27/60\n",
      "1008/1008 [==============================] - 1s 1ms/step - loss: 0.0481 - accuracy: 0.9782\n",
      "Epoch 28/60\n",
      "1008/1008 [==============================] - 1s 1ms/step - loss: 0.0498 - accuracy: 0.9758\n",
      "Epoch 29/60\n",
      "1008/1008 [==============================] - 1s 1ms/step - loss: 0.0530 - accuracy: 0.9723\n",
      "Epoch 30/60\n",
      "1008/1008 [==============================] - 1s 1ms/step - loss: 0.0472 - accuracy: 0.9784\n",
      "Epoch 31/60\n",
      "1008/1008 [==============================] - 2s 1ms/step - loss: 0.0452 - accuracy: 0.9785\n",
      "Epoch 32/60\n",
      "1008/1008 [==============================] - 2s 1ms/step - loss: 0.0492 - accuracy: 0.9760\n",
      "Epoch 33/60\n",
      "1008/1008 [==============================] - 1s 1ms/step - loss: 0.0507 - accuracy: 0.9754\n",
      "Epoch 34/60\n",
      "1008/1008 [==============================] - 2s 2ms/step - loss: 0.0468 - accuracy: 0.9796\n",
      "Epoch 35/60\n",
      "1008/1008 [==============================] - 1s 1ms/step - loss: 0.0436 - accuracy: 0.9788\n",
      "Epoch 36/60\n",
      "1008/1008 [==============================] - 2s 2ms/step - loss: 0.0495 - accuracy: 0.9768\n",
      "Epoch 37/60\n",
      "1008/1008 [==============================] - 1s 1ms/step - loss: 0.0500 - accuracy: 0.9757\n",
      "Epoch 38/60\n",
      "1008/1008 [==============================] - 1s 1ms/step - loss: 0.0477 - accuracy: 0.9739\n",
      "Epoch 39/60\n",
      "1008/1008 [==============================] - 1s 1ms/step - loss: 0.0477 - accuracy: 0.9749\n",
      "Epoch 40/60\n",
      "1008/1008 [==============================] - 1s 1ms/step - loss: 0.0488 - accuracy: 0.9777\n",
      "Epoch 41/60\n",
      "1008/1008 [==============================] - 1s 1ms/step - loss: 0.0469 - accuracy: 0.9764\n",
      "Epoch 42/60\n",
      "1008/1008 [==============================] - 1s 1ms/step - loss: 0.0451 - accuracy: 0.9787\n",
      "Epoch 43/60\n",
      "1008/1008 [==============================] - 1s 1ms/step - loss: 0.0535 - accuracy: 0.9753\n",
      "Epoch 44/60\n",
      "1008/1008 [==============================] - 1s 1ms/step - loss: 0.0492 - accuracy: 0.9757\n",
      "Epoch 45/60\n",
      "1008/1008 [==============================] - 1s 1ms/step - loss: 0.0466 - accuracy: 0.9775\n",
      "Epoch 46/60\n",
      "1008/1008 [==============================] - 1s 1ms/step - loss: 0.0447 - accuracy: 0.9764\n",
      "Epoch 47/60\n",
      "1008/1008 [==============================] - 1s 1ms/step - loss: 0.0511 - accuracy: 0.9752\n",
      "Epoch 48/60\n",
      "1008/1008 [==============================] - 1s 1ms/step - loss: 0.0443 - accuracy: 0.9773\n",
      "Epoch 49/60\n",
      "1008/1008 [==============================] - 1s 1ms/step - loss: 0.0475 - accuracy: 0.9781\n",
      "Epoch 50/60\n",
      "1008/1008 [==============================] - 1s 1ms/step - loss: 0.0478 - accuracy: 0.9767\n",
      "Epoch 51/60\n",
      "1008/1008 [==============================] - 1s 1ms/step - loss: 0.0444 - accuracy: 0.9780\n",
      "Epoch 52/60\n",
      "1008/1008 [==============================] - 2s 2ms/step - loss: 0.0447 - accuracy: 0.9768\n",
      "Epoch 53/60\n",
      "1008/1008 [==============================] - 1s 1ms/step - loss: 0.0471 - accuracy: 0.9766\n",
      "Epoch 54/60\n",
      "1008/1008 [==============================] - 1s 1ms/step - loss: 0.0466 - accuracy: 0.9767\n",
      "Epoch 55/60\n",
      "1008/1008 [==============================] - 1s 1ms/step - loss: 0.0404 - accuracy: 0.9822\n",
      "Epoch 56/60\n",
      "1008/1008 [==============================] - 1s 1ms/step - loss: 0.0488 - accuracy: 0.9765\n",
      "Epoch 57/60\n",
      "1008/1008 [==============================] - 1s 1ms/step - loss: 0.0460 - accuracy: 0.9754\n",
      "Epoch 58/60\n",
      "1008/1008 [==============================] - 1s 1ms/step - loss: 0.0435 - accuracy: 0.9778\n",
      "Epoch 59/60\n",
      "1008/1008 [==============================] - 1s 1ms/step - loss: 0.0423 - accuracy: 0.9814\n",
      "Epoch 60/60\n",
      "1008/1008 [==============================] - 1s 1ms/step - loss: 0.0493 - accuracy: 0.9773\n"
     ]
    },
    {
     "data": {
      "text/plain": [
       "<tensorflow.python.keras.callbacks.History at 0x7ff9df584400>"
      ]
     },
     "execution_count": 13,
     "metadata": {},
     "output_type": "execute_result"
    }
   ],
   "source": [
    "model.compile(optimizer = \"Adam\", loss = \"bce\", metrics = [\"accuracy\"])\n",
    "model.fit(x_train, y_train, batch_size = 5, epochs = 60, verbose = 1)"
   ]
  },
  {
   "cell_type": "markdown",
   "metadata": {},
   "source": [
    "#### Evaluation of the model on the test set\n",
    "\n",
    "Find the accuracy of your trained model on the test set. Don't forget that you had normalized your training set before training the same model."
   ]
  },
  {
   "cell_type": "code",
   "execution_count": 17,
   "metadata": {},
   "outputs": [
    {
     "name": "stdout",
     "output_type": "stream",
     "text": [
      "72/72 [==============================] - 0s 1ms/step\n",
      "0.9787037037037037\n"
     ]
    }
   ],
   "source": [
    "prediction = model.predict(x_test, batch_size = 30, verbose = 1)\n",
    "prediction_fin = np.where(prediction > 0.5, prediction, 0)\n",
    "prediction_fin = np.where(prediction_fin <= 0.5, prediction_fin, 1)\n",
    "accuracy = np.count_nonzero(y_test - prediction_fin.T == 0)/y_test.size\n",
    "print(accuracy)"
   ]
  },
  {
   "cell_type": "markdown",
   "metadata": {},
   "source": [
    "Is accuracy really the best metric to evaluate our model on the test set here? What was the proportion of positive samples to negative samples in the dataset? What would have been the accuracy of a model that would have output '0' for any input? By the way, this dataset is for detecting the presence of thyroid in a patient.\n",
    "\n",
    "Now, find out about the metrics - recall, precision and F1-score. Use these metrics to evaluate your model on the test set"
   ]
  },
  {
   "cell_type": "code",
   "execution_count": 18,
   "metadata": {},
   "outputs": [
    {
     "name": "stdout",
     "output_type": "stream",
     "text": [
      "0.8072916666666666\n",
      "0.9451219512195121\n",
      "0.8707865168539325\n"
     ]
    }
   ],
   "source": [
    "precision = np.intersect1d(np.where(prediction_fin == 1), np.where(y_test == 1)).size/np.array(np.where(prediction_fin == 1))[0].size\n",
    "print(precision)\n",
    "recall = np.intersect1d(np.where(prediction_fin == 1), np.where(y_test == 1)).size/np.array(np.where(y_test == 1))[0].size\n",
    "print(recall)\n",
    "F1_score = 2*recall*precision/(recall + precision)\n",
    "print(F1_score)"
   ]
  },
  {
   "cell_type": "markdown",
   "metadata": {},
   "source": [
    "Now, tune the hyperparameters of your model (like number of layers, number of units in different layers, etc.) to try and do better and better on the test set."
   ]
  },
  {
   "cell_type": "markdown",
   "metadata": {},
   "source": [
    "\n",
    "#### Plotting histograms based on prediction values\n",
    "\n",
    "Now, you will plot 2 historgrams of prediction values (0 to 1, or 0% to 100%) on the training data, output by your nn model - one histogram for positive samples and another for negative samples. Plot both the histograms in the same figure. \n",
    "\n",
    "Here's one such plot I made with my nn model:\n",
    "<img src=\"files/index.jpeg\">\n",
    "\n",
    "The blue histogram is for negative samples and the red one is for positive samples (add a legend to the plots, unlike me).\n",
    "\n",
    "Use log-scale on the y-axis (number of occurances in the given predicted value range), like I have done.\n",
    "\n",
    "Now, what can you infer from the histograms you got? How should an ideal pair of histograms look like?"
   ]
  },
  {
   "cell_type": "code",
   "execution_count": 19,
   "metadata": {},
   "outputs": [
    {
     "data": {
      "image/png": "[encoded data removed]",
      "text/plain": [
       "<Figure size 2160x2160 with 1 Axes>"
      ]
     },
     "metadata": {
      "needs_background": "light"
     },
     "output_type": "display_data"
    }
   ],
   "source": [
    "positive = prediction[tuple(test_pos)]\n",
    "negative = prediction[tuple(test_neg)]\n",
    "plt.rcParams.update({'font.size' : 22})\n",
    "plt.rc('xtick', labelsize = 20)\n",
    "plt.rc('ytick', labelsize = 20)\n",
    "figure, axis = plt.subplots(figsize = (30, 30))\n",
    "nbins = 20\n",
    "axis.hist(negative, nbins, range = [0, 1], log = True, alpha = 0.5, label = 'Negative')\n",
    "axis.hist(positive, nbins, range = [0, 1], log = True, alpha = 0.5, label = 'Positive')\n",
    "plt.xlabel(\"Anomaly Score\", size = 30)\n",
    "plt.ylabel(\"Occurances\", size = 30)\n",
    "plt.legend(loc = 'upper right')\n",
    "plt.show()"
   ]
  },
  {
   "cell_type": "code",
   "execution_count": null,
   "metadata": {},
   "outputs": [],
   "source": []
  }
 ],
 "metadata": {
  "kernelspec": {
   "display_name": "Python 3",
   "language": "python",
   "name": "python3"
  },
  "language_info": {
   "codemirror_mode": {
    "name": "ipython",
    "version": 3
   },
   "file_extension": ".py",
   "mimetype": "text/x-python",
   "name": "python",
   "nbconvert_exporter": "python",
   "pygments_lexer": "ipython3",
   "version": "3.8.5"
  }
 },
 "nbformat": 4,
 "nbformat_minor": 5
}
